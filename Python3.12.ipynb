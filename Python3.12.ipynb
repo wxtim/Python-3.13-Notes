{
 "cells": [
  {
   "cell_type": "markdown",
   "id": "2f9ef21c-0f4f-4a38-b5e9-f5069a6650d0",
   "metadata": {
    "editable": true,
    "slideshow": {
     "slide_type": "slide"
    },
    "tags": []
   },
   "source": [
    "# Python 3.13 Features\n",
    "\n",
    "Released October 2024\n",
    "\n",
    "A quick skim and pointer to some interesting bits."
   ]
  },
  {
   "cell_type": "markdown",
   "id": "bd6fe5d6-1c6a-4efb-81bb-4f5ca7dcc7e1",
   "metadata": {
    "editable": true,
    "slideshow": {
     "slide_type": "slide"
    },
    "tags": []
   },
   "source": [
    "## Interactive Interpreter\n",
    "\n",
    "Nice usability features\n"
   ]
  },
  {
   "cell_type": "markdown",
   "id": "05f52e2b-4559-4d09-9228-9e5737e2e33d",
   "metadata": {
    "editable": true,
    "slideshow": {
     "slide_type": "subslide"
    },
    "tags": []
   },
   "source": [
    "### Remembers multiline statements better\n",
    "\n",
    "```python\n",
    ">>> for i in range(2):\n",
    "...     print(i)\n",
    "...     \n",
    "0\n",
    "1\n",
    ">>> for i in range(2):  # I pressed up here!\n",
    "...     print(i)\n",
    "\n",
    "```"
   ]
  },
  {
   "cell_type": "markdown",
   "id": "ded2b531-6371-4b12-87e5-41956970cc5e",
   "metadata": {
    "editable": true,
    "slideshow": {
     "slide_type": "subslide"
    },
    "tags": []
   },
   "source": [
    "### More Colours by default"
   ]
  },
  {
   "cell_type": "code",
   "execution_count": 1,
   "id": "a0898343-38f8-4dc1-a1f2-8c8beb55a44b",
   "metadata": {
    "editable": true,
    "slideshow": {
     "slide_type": "subslide"
    },
    "tags": []
   },
   "outputs": [
    {
     "name": "stdout",
     "output_type": "stream",
     "text": [
      "Traceback (most recent call last):\n",
      "  File \u001b[35m\"<string>\"\u001b[0m, line \u001b[35m1\u001b[0m, in \u001b[35m<module>\u001b[0m\n",
      "    raise \u001b[1;31mGarbage\u001b[0m()\n",
      "          \u001b[1;31m^^^^^^^\u001b[0m\n",
      "\u001b[1;35mNameError\u001b[0m: \u001b[35mname 'Garbage' is not defined\u001b[0m\n"
     ]
    }
   ],
   "source": [
    "# More colour by default!\n",
    "!python -c 'raise Garbage()'"
   ]
  },
  {
   "cell_type": "markdown",
   "id": "5d7f985f-ad2f-4ea0-b9ff-d6f172decaee",
   "metadata": {
    "editable": true,
    "slideshow": {
     "slide_type": "subslide"
    },
    "tags": []
   },
   "source": [
    "### Nicer interactive help\n",
    "\n",
    "`help`, `exit` and `quit` now work without `()`, and help has been much improved."
   ]
  },
  {
   "cell_type": "markdown",
   "id": "007e4fa6-3d25-4e8e-8df3-fbc58ff60f30",
   "metadata": {
    "editable": true,
    "slideshow": {
     "slide_type": "subslide"
    },
    "tags": []
   },
   "source": [
    "### F2 Gives you a nice history!\n",
    "\n",
    "```\n",
    "from pathlib import Path\n",
    "for i in range(4):\n",
    "    print(i)\n",
    "    \n",
    "for i in range(2):\n",
    "    print(i)\n",
    "tory line 782/796 (END) (press h for help or q to quit\n",
    "```"
   ]
  },
  {
   "cell_type": "markdown",
   "id": "10d516d3-6c8f-47e2-9d75-761f7019f5b4",
   "metadata": {
    "editable": true,
    "slideshow": {
     "slide_type": "skip"
    },
    "tags": []
   },
   "source": [
    "## New Class Attributes"
   ]
  },
  {
   "cell_type": "code",
   "execution_count": 2,
   "id": "6d374c0c-8016-4764-bc92-3809546e03e0",
   "metadata": {
    "editable": true,
    "slideshow": {
     "slide_type": "skip"
    },
    "tags": []
   },
   "outputs": [],
   "source": [
    "class Leptocardii:\n",
    "    \"\"\"A phylum that includes anemones,\n",
    "    corals, and jellyfish.\"\"\"\n",
    "\n",
    "    def __init__(self, input_):\n",
    "        self.answer = 6 * input_\n",
    "\n",
    "    def wrong(self):\n",
    "        self.wrong = 44"
   ]
  },
  {
   "cell_type": "code",
   "execution_count": 3,
   "id": "87ba6ce5-4e01-4e77-92ac-722a2cb3942c",
   "metadata": {
    "editable": true,
    "slideshow": {
     "slide_type": "skip"
    },
    "tags": []
   },
   "outputs": [
    {
     "name": "stdout",
     "output_type": "stream",
     "text": [
      "('answer', 'wrong')\n"
     ]
    }
   ],
   "source": [
    "# all of self.x from class body:\n",
    "print(Leptocardii.__static_attributes__)"
   ]
  },
  {
   "cell_type": "markdown",
   "id": "ca38aa5e-27ae-4671-a496-0c5ce7b5119c",
   "metadata": {
    "editable": true,
    "slideshow": {
     "slide_type": "skip"
    },
    "tags": []
   },
   "source": [
    "Why? Memory management? Unclear from a quick reading of https://github.com/python/cpython/issues/115775"
   ]
  },
  {
   "cell_type": "code",
   "execution_count": 4,
   "id": "f0a6ad8b-4944-43fc-ad40-395fe04058d2",
   "metadata": {
    "editable": true,
    "slideshow": {
     "slide_type": "skip"
    },
    "tags": []
   },
   "outputs": [
    {
     "name": "stdout",
     "output_type": "stream",
     "text": [
      "1\n"
     ]
    }
   ],
   "source": [
    "# Where the definition starts:\n",
    "print(Leptocardii.__firstlineno__)"
   ]
  },
  {
   "cell_type": "markdown",
   "id": "db767cad-6cd3-42be-ae1a-fe4018fefc38",
   "metadata": {
    "editable": true,
    "slideshow": {
     "slide_type": "skip"
    },
    "tags": []
   },
   "source": [
    "Why? Optimization of Pydoc by labelling where to find docstrings."
   ]
  },
  {
   "cell_type": "markdown",
   "id": "c025c38a-07a2-4946-8f99-4cc74ccad4dc",
   "metadata": {
    "editable": true,
    "slideshow": {
     "slide_type": "slide"
    },
    "tags": []
   },
   "source": [
    "## Standard Library"
   ]
  },
  {
   "cell_type": "markdown",
   "id": "887940ce-b2bc-418a-8fe5-afeb84ac6573",
   "metadata": {
    "editable": true,
    "slideshow": {
     "slide_type": "subslide"
    },
    "tags": []
   },
   "source": [
    "### Argparse Arg/Option/Subcommand Deprecation"
   ]
  },
  {
   "cell_type": "code",
   "execution_count": 13,
   "id": "daf6f3eb-16ca-49a4-aa1b-41e613276b64",
   "metadata": {
    "editable": true,
    "slideshow": {
     "slide_type": "fragment"
    },
    "tags": []
   },
   "outputs": [
    {
     "data": {
      "text/plain": [
       "Namespace(steam=None)"
      ]
     },
     "execution_count": 13,
     "metadata": {},
     "output_type": "execute_result"
    }
   ],
   "source": [
    "import argparse\n",
    "parser = argparse.ArgumentParser(prog='train.py')\n",
    "parser.add_argument('--steam', deprecated=True)\n",
    "parser.parse_args([])"
   ]
  },
  {
   "cell_type": "code",
   "execution_count": 8,
   "id": "9d04bcb2-b21c-456b-99cf-d70e336b08e9",
   "metadata": {
    "editable": true,
    "slideshow": {
     "slide_type": "fragment"
    },
    "tags": []
   },
   "outputs": [
    {
     "name": "stderr",
     "output_type": "stream",
     "text": [
      "train.py: warning: option '--steam' is deprecated\n"
     ]
    },
    {
     "data": {
      "text/plain": [
       "Namespace(steam='coal')"
      ]
     },
     "execution_count": 8,
     "metadata": {},
     "output_type": "execute_result"
    }
   ],
   "source": [
    "parser.parse_args(['--steam', 'coal'])"
   ]
  },
  {
   "cell_type": "markdown",
   "id": "de2461dc-0398-4822-bf41-f97ae4505833",
   "metadata": {
    "editable": true,
    "slideshow": {
     "slide_type": "subslide"
    },
    "tags": []
   },
   "source": [
    "### `copy.replace`\n",
    "\n",
    "Calls `__replace__` method if object has one.\n",
    "(you get `__replace__` for free in named tuple or a dataclass)\n",
    "\n",
    "Could have been useful in Cylc Platforms work?"
   ]
  },
  {
   "cell_type": "code",
   "execution_count": 2,
   "id": "124e5c25-c112-4236-82f2-df638b961c6e",
   "metadata": {
    "editable": true,
    "slideshow": {
     "slide_type": "fragment"
    },
    "tags": []
   },
   "outputs": [],
   "source": [
    "from dataclasses import dataclass\n",
    "import copy\n",
    "\n",
    "@dataclass\n",
    "class Question:\n",
    "    number: float = 40\n",
    "    question: str = \"What is the airspeed of an unladen swallow?\"\n"
   ]
  },
  {
   "cell_type": "code",
   "execution_count": 10,
   "id": "8e6df1a8-1974-435d-b7c7-ab2d08222879",
   "metadata": {
    "editable": true,
    "slideshow": {
     "slide_type": "fragment"
    },
    "tags": []
   },
   "outputs": [
    {
     "data": {
      "text/plain": [
       "Question(number=40, question='What is the airspeed of an unladen swallow?')"
      ]
     },
     "execution_count": 10,
     "metadata": {},
     "output_type": "execute_result"
    }
   ],
   "source": [
    "x = Question()\n",
    "y = copy.replace(x) \n",
    "y"
   ]
  },
  {
   "cell_type": "markdown",
   "id": "eefbd5d0-b266-4a43-8207-ed6d6a19d415",
   "metadata": {
    "editable": true,
    "slideshow": {
     "slide_type": "subslide"
    },
    "tags": []
   },
   "source": [
    "### Random has a CLI\n",
    "\n",
    "Honestly probably more use if you are bash scripting?\n",
    "(or have lost the dice in your board game?)"
   ]
  },
  {
   "cell_type": "code",
   "execution_count": 11,
   "id": "7fa514c5-4f98-43f7-a1f1-ea934c546941",
   "metadata": {
    "editable": true,
    "slideshow": {
     "slide_type": "subslide"
    },
    "tags": []
   },
   "outputs": [
    {
     "name": "stdout",
     "output_type": "stream",
     "text": [
      "6\n",
      "1\n"
     ]
    }
   ],
   "source": [
    "%%script bash\n",
    "# Catan? Monopoly?\n",
    "for i in {1..2}; do\n",
    "    python -m random --integer 6\n",
    "done"
   ]
  },
  {
   "cell_type": "code",
   "execution_count": 12,
   "id": "f1e6a985-e616-4fae-9b96-be1b9df14fe6",
   "metadata": {
    "editable": true,
    "slideshow": {
     "slide_type": "fragment"
    },
    "tags": []
   },
   "outputs": [
    {
     "name": "stdout",
     "output_type": "stream",
     "text": [
      "fish \\& chips\n"
     ]
    }
   ],
   "source": [
    "!python -m random --choice curry kebab 'fish \\& chips' pizza mezze"
   ]
  },
  {
   "cell_type": "markdown",
   "id": "2645a494-3c60-4470-819d-9c096a99259a",
   "metadata": {
    "editable": true,
    "slideshow": {
     "slide_type": "slide"
    },
    "tags": []
   },
   "source": [
    "## Typing Features"
   ]
  },
  {
   "cell_type": "markdown",
   "id": "999bb716-1065-49dc-bc98-263b4fa54ad2",
   "metadata": {
    "editable": true,
    "slideshow": {
     "slide_type": "subslide"
    },
    "tags": []
   },
   "source": [
    "### Deprecation warning decorator"
   ]
  },
  {
   "cell_type": "code",
   "execution_count": 13,
   "id": "c984783d-fc8d-48c7-95cd-b594fbae3495",
   "metadata": {
    "editable": true,
    "slideshow": {
     "slide_type": "fragment"
    },
    "tags": []
   },
   "outputs": [
    {
     "name": "stderr",
     "output_type": "stream",
     "text": [
      "/tmp/ipykernel_16915/3777662961.py:7: DeprecationWarning: BR Deprecated Second Class\n",
      "  Second()\n"
     ]
    },
    {
     "data": {
      "text/plain": [
       "<__main__.Second at 0x7fdc8d48fe00>"
      ]
     },
     "execution_count": 13,
     "metadata": {},
     "output_type": "execute_result"
    }
   ],
   "source": [
    "from warnings import deprecated\n",
    "\n",
    "@deprecated(\"BR Deprecated Second Class\")\n",
    "class Second:\n",
    "    ...\n",
    "    \n",
    "Second()"
   ]
  },
  {
   "cell_type": "markdown",
   "id": "bf7c7e7d-aaf6-496d-b8b6-659486869f93",
   "metadata": {
    "editable": true,
    "slideshow": {
     "slide_type": "subslide"
    },
    "tags": []
   },
   "source": [
    "### Mark a TypedDict item readonly:"
   ]
  },
  {
   "cell_type": "code",
   "execution_count": 17,
   "id": "ee2b93d4-89a0-4c4b-81c2-514d0db75156",
   "metadata": {
    "editable": true,
    "slideshow": {
     "slide_type": ""
    },
    "tags": []
   },
   "outputs": [
    {
     "name": "stdout",
     "output_type": "stream",
     "text": [
      "Writing typeddict.py\n"
     ]
    }
   ],
   "source": [
    "%%writefile typeddict.py\n",
    "class MyClass(TypedDict):\n",
    "    name: ReadOnly[str]\n",
    "    elephants: int\n",
    "\n",
    "x = MyClass(name='Hannibal', elephants=38)\n",
    "x.name = 'Scipio'"
   ]
  },
  {
   "cell_type": "code",
   "execution_count": 19,
   "id": "cf96c2ae-34c8-44af-b27d-5c0b7268b5b5",
   "metadata": {
    "editable": true,
    "slideshow": {
     "slide_type": ""
    },
    "tags": []
   },
   "outputs": [
    {
     "name": "stdout",
     "output_type": "stream",
     "text": [
      "/bin/bash: mypy: command not found\n"
     ]
    }
   ],
   "source": [
    "!mypy typedict.py"
   ]
  },
  {
   "cell_type": "markdown",
   "id": "0fc423cf-7e3c-4dc2-8bcd-4d7c461342be",
   "metadata": {
    "editable": true,
    "slideshow": {
     "slide_type": "slide"
    },
    "tags": []
   },
   "source": [
    "## Features Not Investigated"
   ]
  },
  {
   "cell_type": "markdown",
   "id": "cfb3f320-8ace-4915-bd9f-52cd805600f2",
   "metadata": {
    "editable": true,
    "slideshow": {
     "slide_type": "subslide"
    },
    "tags": []
   },
   "source": [
    "### GIL can be disabled!\n",
    "\n",
    "Experimental feature.\n",
    "\n",
    "\n",
    "May hearld performance improvements in future."
   ]
  },
  {
   "cell_type": "markdown",
   "id": "a4506b6b-3f76-4bd1-ab4c-f8c37004db67",
   "metadata": {
    "editable": true,
    "slideshow": {
     "slide_type": "subslide"
    },
    "tags": []
   },
   "source": [
    "### Just In Time Compiler\n",
    "\n",
    "Proof concept-y. \n",
    "\n",
    "May hearld performance improvements in future."
   ]
  },
  {
   "cell_type": "markdown",
   "id": "9c27aaf1-50c1-4947-90ef-39b3f1ad3993",
   "metadata": {
    "editable": true,
    "slideshow": {
     "slide_type": "subslide"
    },
    "tags": []
   },
   "source": [
    "## Make mutation of locals safer\n",
    "\n",
    "@3.12: \n",
    "\n",
    "```python\n",
    ">>> class C:\n",
    "...   x = 1\n",
    "...   sys._getframe().f_locals['x'] = 2\n",
    "...   print(x)\n",
    "... \n",
    "2\n",
    ">>> def f():\n",
    "...   x = 1\n",
    "...   sys._getframe().f_locals['x'] = 2\n",
    "...   print(x)\n",
    "... \n",
    ">>> f()\n",
    "1\n",
    "```"
   ]
  },
  {
   "cell_type": "markdown",
   "id": "e5d4ccf9-e623-4dfe-b001-1b8f3761f83d",
   "metadata": {
    "editable": true,
    "slideshow": {
     "slide_type": "subslide"
    },
    "tags": []
   },
   "source": [
    "## Useful in some niche cases?\n",
    "\n",
    "* Extra class attributes (`__static_attributes__` and `__firstlineno__`) - Documentation?\n",
    "* `os.` module can use Linux Timer notification files."
   ]
  },
  {
   "cell_type": "markdown",
   "id": "3987dce7-07d8-4528-874d-dc3950cee767",
   "metadata": {
    "editable": true,
    "slideshow": {
     "slide_type": "slide"
    },
    "tags": []
   },
   "source": [
    "# Conclusion\n",
    "\n",
    "* Lots of hints of stuff to come\n",
    "* Stand out change: Deprecation of Args\n",
    "* TIL (Was reminded of) `TypedDict`."
   ]
  }
 ],
 "metadata": {
  "kernelspec": {
   "display_name": "Python 3 (ipykernel)",
   "language": "python",
   "name": "python3"
  },
  "language_info": {
   "codemirror_mode": {
    "name": "ipython",
    "version": 3
   },
   "file_extension": ".py",
   "mimetype": "text/x-python",
   "name": "python",
   "nbconvert_exporter": "python",
   "pygments_lexer": "ipython3",
   "version": "3.13.0"
  }
 },
 "nbformat": 4,
 "nbformat_minor": 5
}

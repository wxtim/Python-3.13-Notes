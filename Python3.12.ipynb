{
 "cells": [
  {
   "cell_type": "markdown",
   "id": "2f9ef21c-0f4f-4a38-b5e9-f5069a6650d0",
   "metadata": {},
   "source": [
    "# Python 3.13 Features\n",
    "\n",
    "Released October 2024\n",
    "\n",
    "A quick skim and pointer to some interesting bits."
   ]
  },
  {
   "cell_type": "markdown",
   "id": "bd6fe5d6-1c6a-4efb-81bb-4f5ca7dcc7e1",
   "metadata": {},
   "source": [
    "## Interactive Interpreter\n",
    "\n",
    "Nice usability features\n"
   ]
  },
  {
   "cell_type": "markdown",
   "id": "05f52e2b-4559-4d09-9228-9e5737e2e33d",
   "metadata": {},
   "source": [
    "### Remembers multiline statements better\n",
    "\n",
    "```python\n",
    ">>> for i in range(2):\n",
    "...     print(i)\n",
    "...     \n",
    "0\n",
    "1\n",
    ">>> for i in range(2):  # I pressed up here!\n",
    "...     print(i)\n",
    "\n",
    "```"
   ]
  },
  {
   "cell_type": "markdown",
   "id": "ded2b531-6371-4b12-87e5-41956970cc5e",
   "metadata": {},
   "source": [
    "### More Colours by default"
   ]
  },
  {
   "cell_type": "code",
   "execution_count": 1,
   "id": "a0898343-38f8-4dc1-a1f2-8c8beb55a44b",
   "metadata": {},
   "outputs": [
    {
     "name": "stdout",
     "output_type": "stream",
     "text": [
      "Traceback (most recent call last):\n",
      "  File \u001b[35m\"<string>\"\u001b[0m, line \u001b[35m1\u001b[0m, in \u001b[35m<module>\u001b[0m\n",
      "    raise \u001b[1;31mGarbage\u001b[0m()\n",
      "          \u001b[1;31m^^^^^^^\u001b[0m\n",
      "\u001b[1;35mNameError\u001b[0m: \u001b[35mname 'Garbage' is not defined\u001b[0m\n"
     ]
    }
   ],
   "source": [
    "# More colour by default!\n",
    "!python -c 'raise Garbage()'"
   ]
  },
  {
   "cell_type": "markdown",
   "id": "5d7f985f-ad2f-4ea0-b9ff-d6f172decaee",
   "metadata": {},
   "source": [
    "### Nicer interactive help\n",
    "\n",
    "`help`, `exit` and `quit` now work without `()`, and help has been much improved."
   ]
  },
  {
   "cell_type": "markdown",
   "id": "007e4fa6-3d25-4e8e-8df3-fbc58ff60f30",
   "metadata": {},
   "source": [
    "### F2 Gives you a nice history!\n",
    "\n",
    "```\n",
    "from pathlib import Path\n",
    "for i in range(4):\n",
    "    print(i)\n",
    "    \n",
    "for i in range(2):\n",
    "    print(i)\n",
    "tory line 782/796 (END) (press h for help or q to quit\n",
    "```"
   ]
  },
  {
   "cell_type": "markdown",
   "id": "10d516d3-6c8f-47e2-9d75-761f7019f5b4",
   "metadata": {},
   "source": [
    "## New Class Attributes"
   ]
  },
  {
   "cell_type": "code",
   "execution_count": 2,
   "id": "6d374c0c-8016-4764-bc92-3809546e03e0",
   "metadata": {},
   "outputs": [],
   "source": [
    "class Leptocardii:\n",
    "    \"\"\"A phylum that includes anemones,\n",
    "    corals, and jellyfish.\"\"\"\n",
    "\n",
    "    def __init__(self, input_):\n",
    "        self.answer = 6 * input_\n",
    "\n",
    "    def wrong(self):\n",
    "        self.wrong = 44"
   ]
  },
  {
   "cell_type": "code",
   "execution_count": 3,
   "id": "87ba6ce5-4e01-4e77-92ac-722a2cb3942c",
   "metadata": {},
   "outputs": [
    {
     "name": "stdout",
     "output_type": "stream",
     "text": [
      "('answer', 'wrong')\n"
     ]
    }
   ],
   "source": [
    "# all of self.x from class body:\n",
    "print(Leptocardii.__static_attributes__)"
   ]
  },
  {
   "cell_type": "markdown",
   "id": "ca38aa5e-27ae-4671-a496-0c5ce7b5119c",
   "metadata": {},
   "source": [
    "Why? Memory management? Unclear from a quick reading of https://github.com/python/cpython/issues/115775"
   ]
  },
  {
   "cell_type": "code",
   "execution_count": 4,
   "id": "f0a6ad8b-4944-43fc-ad40-395fe04058d2",
   "metadata": {},
   "outputs": [
    {
     "name": "stdout",
     "output_type": "stream",
     "text": [
      "1\n"
     ]
    }
   ],
   "source": [
    "# Where the definition starts:\n",
    "print(Leptocardii.__firstlineno__)"
   ]
  },
  {
   "cell_type": "markdown",
   "id": "db767cad-6cd3-42be-ae1a-fe4018fefc38",
   "metadata": {},
   "source": [
    "Why? Optimization of Pydoc by labelling where to find docstrings."
   ]
  },
  {
   "cell_type": "markdown",
   "id": "d8c71a86-2449-4a37-bbd2-a89f0cd93082",
   "metadata": {},
   "source": [
    "## Interpreter Stuff"
   ]
  },
  {
   "cell_type": "markdown",
   "id": "68d52dfa-70a6-4fdf-b636-b8af4d07e094",
   "metadata": {},
   "source": [
    "### Safely mutate locals"
   ]
  },
  {
   "cell_type": "code",
   "execution_count": 5,
   "id": "f74da314-6bb7-4904-abfd-23d1314d7220",
   "metadata": {},
   "outputs": [],
   "source": [
    "# This is now safe!\n",
    "\n",
    "locals()['foo'] ='Hello World'"
   ]
  },
  {
   "cell_type": "code",
   "execution_count": 6,
   "id": "9ff48058-d8f7-4479-ad8d-bb51fa36899c",
   "metadata": {},
   "outputs": [
    {
     "data": {
      "text/plain": [
       "'Hello World'"
      ]
     },
     "execution_count": 6,
     "metadata": {},
     "output_type": "execute_result"
    }
   ],
   "source": [
    "locals()['foo']"
   ]
  },
  {
   "cell_type": "markdown",
   "id": "cfb3f320-8ace-4915-bd9f-52cd805600f2",
   "metadata": {},
   "source": [
    "### GIL can be disabled!\n",
    "\n",
    "Experimental feature."
   ]
  },
  {
   "cell_type": "markdown",
   "id": "a4506b6b-3f76-4bd1-ab4c-f8c37004db67",
   "metadata": {},
   "source": [
    "### Just In Time Compiler\n",
    "\n",
    "Not investigated - this looks like it's at a somewhat proof of concept stage. (You need to install a different version of Python).\n"
   ]
  },
  {
   "cell_type": "markdown",
   "id": "c025c38a-07a2-4946-8f99-4cc74ccad4dc",
   "metadata": {},
   "source": [
    "## Standard Library"
   ]
  },
  {
   "cell_type": "markdown",
   "id": "887940ce-b2bc-418a-8fe5-afeb84ac6573",
   "metadata": {},
   "source": [
    "### Argparse Arg/Option/Subcommand Deprecation"
   ]
  },
  {
   "cell_type": "code",
   "execution_count": 13,
   "id": "daf6f3eb-16ca-49a4-aa1b-41e613276b64",
   "metadata": {},
   "outputs": [
    {
     "data": {
      "text/plain": [
       "Namespace(steam=None)"
      ]
     },
     "execution_count": 13,
     "metadata": {},
     "output_type": "execute_result"
    }
   ],
   "source": [
    "import argparse\n",
    "parser = argparse.ArgumentParser(prog='train.py')\n",
    "parser.add_argument('--steam', deprecated=True)\n",
    "parser.parse_args([])"
   ]
  },
  {
   "cell_type": "code",
   "execution_count": 8,
   "id": "9d04bcb2-b21c-456b-99cf-d70e336b08e9",
   "metadata": {},
   "outputs": [
    {
     "name": "stderr",
     "output_type": "stream",
     "text": [
      "train.py: warning: option '--steam' is deprecated\n"
     ]
    },
    {
     "data": {
      "text/plain": [
       "Namespace(steam='coal')"
      ]
     },
     "execution_count": 8,
     "metadata": {},
     "output_type": "execute_result"
    }
   ],
   "source": [
    "parser.parse_args(['--steam', 'coal'])"
   ]
  },
  {
   "cell_type": "markdown",
   "id": "de2461dc-0398-4822-bf41-f97ae4505833",
   "metadata": {},
   "source": [
    "### `copy.replace`\n",
    "\n",
    "Calls `__replace__` method if object has one.\n",
    "(you get `__replace__` for free in named tuple or a dataclass)"
   ]
  },
  {
   "cell_type": "code",
   "execution_count": 9,
   "id": "124e5c25-c112-4236-82f2-df638b961c6e",
   "metadata": {},
   "outputs": [],
   "source": [
    "from dataclasses import dataclass\n",
    "import copy\n",
    "\n",
    "@dataclass\n",
    "class Question:\n",
    "    number: float = 40\n",
    "    question: str = \"What is the airspeed of an unladen swallow?\"\n"
   ]
  },
  {
   "cell_type": "code",
   "execution_count": 10,
   "id": "8e6df1a8-1974-435d-b7c7-ab2d08222879",
   "metadata": {},
   "outputs": [
    {
     "data": {
      "text/plain": [
       "Question(number=40, question='What is the airspeed of an unladen swallow?')"
      ]
     },
     "execution_count": 10,
     "metadata": {},
     "output_type": "execute_result"
    }
   ],
   "source": [
    "x = Question()\n",
    "y = copy.replace(x) \n",
    "y"
   ]
  },
  {
   "cell_type": "markdown",
   "id": "eefbd5d0-b266-4a43-8207-ed6d6a19d415",
   "metadata": {},
   "source": [
    "### Random has a CLI\n",
    "\n",
    "Honestly probably more use if you are bash scripting?\n",
    "(or have lost the dice in your board game?)"
   ]
  },
  {
   "cell_type": "code",
   "execution_count": 11,
   "id": "7fa514c5-4f98-43f7-a1f1-ea934c546941",
   "metadata": {},
   "outputs": [
    {
     "name": "stdout",
     "output_type": "stream",
     "text": [
      "6\n",
      "1\n"
     ]
    }
   ],
   "source": [
    "%%script bash\n",
    "# Catan? Monopoly?\n",
    "for i in {1..2}; do\n",
    "    python -m random --integer 6\n",
    "done"
   ]
  },
  {
   "cell_type": "code",
   "execution_count": 12,
   "id": "f1e6a985-e616-4fae-9b96-be1b9df14fe6",
   "metadata": {},
   "outputs": [
    {
     "name": "stdout",
     "output_type": "stream",
     "text": [
      "fish \\& chips\n"
     ]
    }
   ],
   "source": [
    "!python -m random --choice curry kebab 'fish \\& chips' pizza mezze"
   ]
  },
  {
   "cell_type": "code",
   "execution_count": null,
   "id": "c5c37e04-1f6c-49fa-be63-cd8d683a1adf",
   "metadata": {},
   "outputs": [],
   "source": []
  },
  {
   "cell_type": "code",
   "execution_count": null,
   "id": "8781daf4-0d7f-4f57-b649-b06c2e9f9dc7",
   "metadata": {},
   "outputs": [],
   "source": []
  }
 ],
 "metadata": {
  "kernelspec": {
   "display_name": "Python 3 (ipykernel)",
   "language": "python",
   "name": "python3"
  },
  "language_info": {
   "codemirror_mode": {
    "name": "ipython",
    "version": 3
   },
   "file_extension": ".py",
   "mimetype": "text/x-python",
   "name": "python",
   "nbconvert_exporter": "python",
   "pygments_lexer": "ipython3",
   "version": "3.13.0"
  }
 },
 "nbformat": 4,
 "nbformat_minor": 5
}
